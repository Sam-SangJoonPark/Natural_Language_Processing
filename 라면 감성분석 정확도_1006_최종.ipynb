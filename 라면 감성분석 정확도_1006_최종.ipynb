{
 "cells": [
  {
   "cell_type": "code",
   "execution_count": 292,
   "metadata": {},
   "outputs": [],
   "source": [
    "import pandas as pd \n",
    "import numpy as np\n",
    "import re"
   ]
  },
  {
   "cell_type": "code",
   "execution_count": 293,
   "metadata": {},
   "outputs": [],
   "source": [
    "data1 = pd.read_csv(\"truffle_zzappa_label.csv\")\n",
    "data2 = pd.read_csv(\"백종원 있는 미역초무침 댓글 2제외.csv\")\n",
    "data3 = pd.read_csv(\"mara_1-7445.csv\")"
   ]
  },
  {
   "cell_type": "code",
   "execution_count": 294,
   "metadata": {},
   "outputs": [],
   "source": [
    "data = pd.concat([data2, data3], axis = 0)"
   ]
  },
  {
   "cell_type": "code",
   "execution_count": 295,
   "metadata": {},
   "outputs": [
    {
     "data": {
      "text/html": [
       "<div>\n",
       "<style scoped>\n",
       "    .dataframe tbody tr th:only-of-type {\n",
       "        vertical-align: middle;\n",
       "    }\n",
       "\n",
       "    .dataframe tbody tr th {\n",
       "        vertical-align: top;\n",
       "    }\n",
       "\n",
       "    .dataframe thead th {\n",
       "        text-align: right;\n",
       "    }\n",
       "</style>\n",
       "<table border=\"1\" class=\"dataframe\">\n",
       "  <thead>\n",
       "    <tr style=\"text-align: right;\">\n",
       "      <th></th>\n",
       "      <th>Unnamed: 0</th>\n",
       "      <th>Comments</th>\n",
       "      <th>tokens</th>\n",
       "      <th>label</th>\n",
       "    </tr>\n",
       "  </thead>\n",
       "  <tbody>\n",
       "    <tr>\n",
       "      <th>0</th>\n",
       "      <td>0</td>\n",
       "      <td>솔직히 먹어봤는데 트러플을 접해보지 못한 일반인인 나는 차이를 느끼지 못했다</td>\n",
       "      <td>솔직히 먹어 봤는데 트러플 해보지 일반인 차이 느끼지 했다</td>\n",
       "      <td>0</td>\n",
       "    </tr>\n",
       "    <tr>\n",
       "      <th>1</th>\n",
       "      <td>2</td>\n",
       "      <td>그냥 짜파게티에 달걀후라이가 젤 맛있음</td>\n",
       "      <td>그냥 짜파게티 달걀후라이 맛있음</td>\n",
       "      <td>0</td>\n",
       "    </tr>\n",
       "    <tr>\n",
       "      <th>2</th>\n",
       "      <td>5</td>\n",
       "      <td>저는 짜파게티 맛이 예전맛이 안나는거 같아서 항상 아쉬웠었는데 트러플 소스 들어가고...</td>\n",
       "      <td>짜파게티 안나는거 같아서 항상 아쉬웠었는데 트러플 소스 들어가고 나서 옜날 어릴 먹...</td>\n",
       "      <td>1</td>\n",
       "    </tr>\n",
       "    <tr>\n",
       "      <th>3</th>\n",
       "      <td>7</td>\n",
       "      <td>오   컵라면 뚜껑에 젓가락 끼워놓을 수 있는 곳이 있는줄 몰랐네요ㅋㅋㅋ 완전 꿀팁...</td>\n",
       "      <td>컵라면 뚜껑 젓가락 끼워놓을 있는 있는줄 몰랐네요 완전 꿀팁 트러플 오일 제조 송로...</td>\n",
       "      <td>0</td>\n",
       "    </tr>\n",
       "    <tr>\n",
       "      <th>4</th>\n",
       "      <td>10</td>\n",
       "      <td>솔직한 리뷰 잘 봤구요  그냥 트러플 오일 하나 사서 두어 방울 뿌려먹는게 낫겠지 ...</td>\n",
       "      <td>솔직한 리뷰 봤구요 그냥 트러플 오일 하나 사서 두어 방울 뿌려 먹는게 낫겠지 싶네...</td>\n",
       "      <td>0</td>\n",
       "    </tr>\n",
       "    <tr>\n",
       "      <th>...</th>\n",
       "      <td>...</td>\n",
       "      <td>...</td>\n",
       "      <td>...</td>\n",
       "      <td>...</td>\n",
       "    </tr>\n",
       "    <tr>\n",
       "      <th>377</th>\n",
       "      <td>2192</td>\n",
       "      <td>드셨던 짜파게티 중에 최고라니 저두 당장 먹어봐야겠어요</td>\n",
       "      <td>드셨던 짜파게티 최고 당장 먹어 봐야겠어요</td>\n",
       "      <td>1</td>\n",
       "    </tr>\n",
       "    <tr>\n",
       "      <th>378</th>\n",
       "      <td>2195</td>\n",
       "      <td>맛있겠다</td>\n",
       "      <td>맛있겠다</td>\n",
       "      <td>1</td>\n",
       "    </tr>\n",
       "    <tr>\n",
       "      <th>379</th>\n",
       "      <td>2213</td>\n",
       "      <td>맜있겠다  나짜장면  좋아하는데</td>\n",
       "      <td>있겠다 짜장면 좋아하는데</td>\n",
       "      <td>1</td>\n",
       "    </tr>\n",
       "    <tr>\n",
       "      <th>380</th>\n",
       "      <td>2226</td>\n",
       "      <td>진짜 맛있겠다 못참아</td>\n",
       "      <td>진짜 맛있겠다 참아</td>\n",
       "      <td>1</td>\n",
       "    </tr>\n",
       "    <tr>\n",
       "      <th>381</th>\n",
       "      <td>2378</td>\n",
       "      <td>먹고싶다</td>\n",
       "      <td>먹고싶다</td>\n",
       "      <td>1</td>\n",
       "    </tr>\n",
       "  </tbody>\n",
       "</table>\n",
       "<p>382 rows × 4 columns</p>\n",
       "</div>"
      ],
      "text/plain": [
       "     Unnamed: 0                                           Comments  \\\n",
       "0             0         솔직히 먹어봤는데 트러플을 접해보지 못한 일반인인 나는 차이를 느끼지 못했다   \n",
       "1             2                              그냥 짜파게티에 달걀후라이가 젤 맛있음   \n",
       "2             5  저는 짜파게티 맛이 예전맛이 안나는거 같아서 항상 아쉬웠었는데 트러플 소스 들어가고...   \n",
       "3             7  오   컵라면 뚜껑에 젓가락 끼워놓을 수 있는 곳이 있는줄 몰랐네요ㅋㅋㅋ 완전 꿀팁...   \n",
       "4            10  솔직한 리뷰 잘 봤구요  그냥 트러플 오일 하나 사서 두어 방울 뿌려먹는게 낫겠지 ...   \n",
       "..          ...                                                ...   \n",
       "377        2192                     드셨던 짜파게티 중에 최고라니 저두 당장 먹어봐야겠어요   \n",
       "378        2195                                               맛있겠다   \n",
       "379        2213                                  맜있겠다  나짜장면  좋아하는데   \n",
       "380        2226                                        진짜 맛있겠다 못참아   \n",
       "381        2378                                               먹고싶다   \n",
       "\n",
       "                                                tokens  label  \n",
       "0                     솔직히 먹어 봤는데 트러플 해보지 일반인 차이 느끼지 했다      0  \n",
       "1                                    그냥 짜파게티 달걀후라이 맛있음      0  \n",
       "2    짜파게티 안나는거 같아서 항상 아쉬웠었는데 트러플 소스 들어가고 나서 옜날 어릴 먹...      1  \n",
       "3    컵라면 뚜껑 젓가락 끼워놓을 있는 있는줄 몰랐네요 완전 꿀팁 트러플 오일 제조 송로...      0  \n",
       "4    솔직한 리뷰 봤구요 그냥 트러플 오일 하나 사서 두어 방울 뿌려 먹는게 낫겠지 싶네...      0  \n",
       "..                                                 ...    ...  \n",
       "377                            드셨던 짜파게티 최고 당장 먹어 봐야겠어요      1  \n",
       "378                                               맛있겠다      1  \n",
       "379                                      있겠다 짜장면 좋아하는데      1  \n",
       "380                                         진짜 맛있겠다 참아      1  \n",
       "381                                               먹고싶다      1  \n",
       "\n",
       "[382 rows x 4 columns]"
      ]
     },
     "execution_count": 295,
     "metadata": {},
     "output_type": "execute_result"
    }
   ],
   "source": [
    "data1"
   ]
  },
  {
   "cell_type": "code",
   "execution_count": 296,
   "metadata": {},
   "outputs": [
    {
     "data": {
      "text/html": [
       "<div>\n",
       "<style scoped>\n",
       "    .dataframe tbody tr th:only-of-type {\n",
       "        vertical-align: middle;\n",
       "    }\n",
       "\n",
       "    .dataframe tbody tr th {\n",
       "        vertical-align: top;\n",
       "    }\n",
       "\n",
       "    .dataframe thead th {\n",
       "        text-align: right;\n",
       "    }\n",
       "</style>\n",
       "<table border=\"1\" class=\"dataframe\">\n",
       "  <thead>\n",
       "    <tr style=\"text-align: right;\">\n",
       "      <th></th>\n",
       "      <th>Unnamed: 0</th>\n",
       "      <th>Unnamed: 0.1</th>\n",
       "      <th>Comments</th>\n",
       "      <th>tokens</th>\n",
       "      <th>label</th>\n",
       "    </tr>\n",
       "  </thead>\n",
       "  <tbody>\n",
       "    <tr>\n",
       "      <th>0</th>\n",
       "      <td>640</td>\n",
       "      <td>15</td>\n",
       "      <td>라면의품격을 한차원 올렸네요 잘먹고갑니다</td>\n",
       "      <td>['라면', '품격', '을', '차원', '올리다', '먹다', '가다']</td>\n",
       "      <td>1</td>\n",
       "    </tr>\n",
       "    <tr>\n",
       "      <th>1</th>\n",
       "      <td>643</td>\n",
       "      <td>18</td>\n",
       "      <td>미역초비빔면 괜찮아보이네요 ㅎㅎ 원래 오이를 채썰어서 비빔면이랑 같이 비벼서 많이 ...</td>\n",
       "      <td>['미역', '초', '비빔면', '괜찮다', '보이다', 'ㅎㅎ', '원래', '...</td>\n",
       "      <td>1</td>\n",
       "    </tr>\n",
       "    <tr>\n",
       "      <th>2</th>\n",
       "      <td>644</td>\n",
       "      <td>19</td>\n",
       "      <td>오이오이오이 오늘도 단순하지만 영양가는 꼭 들어가는 한끼이네요 ㅎㅎㅎㅎㅎ 저 까만것...</td>\n",
       "      <td>['오이오이오이', '오늘', '단순하다', '영양가', '꼭', '들어가다', '...</td>\n",
       "      <td>1</td>\n",
       "    </tr>\n",
       "    <tr>\n",
       "      <th>3</th>\n",
       "      <td>645</td>\n",
       "      <td>20</td>\n",
       "      <td>미역초 비빔면 정말 맛있게 드시네요  저도 한입 먹고싶어요  풀시청하고 갑니다</td>\n",
       "      <td>['미역', '초', '비빔면', '정말', '맛있다', '들다', '저', '입'...</td>\n",
       "      <td>1</td>\n",
       "    </tr>\n",
       "    <tr>\n",
       "      <th>4</th>\n",
       "      <td>647</td>\n",
       "      <td>22</td>\n",
       "      <td>노다이어트ㅋㅋㅋ 근데 진짜로 건강음식 같네요  먹고싶</td>\n",
       "      <td>['노', '다이어트', 'ㅋㅋㅋ', '근데', '진짜', '로', '건강', '음...</td>\n",
       "      <td>1</td>\n",
       "    </tr>\n",
       "  </tbody>\n",
       "</table>\n",
       "</div>"
      ],
      "text/plain": [
       "   Unnamed: 0 Unnamed: 0.1                                           Comments  \\\n",
       "0         640           15                             라면의품격을 한차원 올렸네요 잘먹고갑니다   \n",
       "1         643           18  미역초비빔면 괜찮아보이네요 ㅎㅎ 원래 오이를 채썰어서 비빔면이랑 같이 비벼서 많이 ...   \n",
       "2         644           19  오이오이오이 오늘도 단순하지만 영양가는 꼭 들어가는 한끼이네요 ㅎㅎㅎㅎㅎ 저 까만것...   \n",
       "3         645           20        미역초 비빔면 정말 맛있게 드시네요  저도 한입 먹고싶어요  풀시청하고 갑니다   \n",
       "4         647           22                      노다이어트ㅋㅋㅋ 근데 진짜로 건강음식 같네요  먹고싶   \n",
       "\n",
       "                                              tokens label  \n",
       "0         ['라면', '품격', '을', '차원', '올리다', '먹다', '가다']     1  \n",
       "1  ['미역', '초', '비빔면', '괜찮다', '보이다', 'ㅎㅎ', '원래', '...     1  \n",
       "2  ['오이오이오이', '오늘', '단순하다', '영양가', '꼭', '들어가다', '...     1  \n",
       "3  ['미역', '초', '비빔면', '정말', '맛있다', '들다', '저', '입'...     1  \n",
       "4  ['노', '다이어트', 'ㅋㅋㅋ', '근데', '진짜', '로', '건강', '음...     1  "
      ]
     },
     "execution_count": 296,
     "metadata": {},
     "output_type": "execute_result"
    }
   ],
   "source": [
    "test_df = data\n",
    "test_df = test_df.replace(np.nan, '', regex=True)\n",
    "test_df.head()"
   ]
  },
  {
   "cell_type": "code",
   "execution_count": 297,
   "metadata": {},
   "outputs": [],
   "source": [
    "def preprocess(text) :\n",
    "    text = text.replace('[','')\n",
    "    text = text.replace(']','')\n",
    "    return text"
   ]
  },
  {
   "cell_type": "code",
   "execution_count": 298,
   "metadata": {},
   "outputs": [],
   "source": [
    "test_df['Comments'] = test_df['Comments'].map(lambda x : preprocess(x))"
   ]
  },
  {
   "cell_type": "code",
   "execution_count": 299,
   "metadata": {},
   "outputs": [],
   "source": [
    "data2['Comments'] = data2['Comments'].map(lambda x : preprocess(x))"
   ]
  },
  {
   "cell_type": "code",
   "execution_count": 300,
   "metadata": {},
   "outputs": [],
   "source": [
    "import konlpy.tag\n",
    "from konlpy.tag import Mecab\n",
    "mecab = Mecab()\n",
    "\n",
    "#mecab으로 토큰화하고 한 글자는 젝하고, stop_word도 제거하자\n",
    "\n",
    "stop_word = ['께서','에서','이다','에게','으로','이랑','까지','부터','하다']\n",
    "stopPos = ['JKS','JKC','JKG','JKO','JKB','JKV','JKQ','JC','JX',\n",
    "           'SF','SE','SS','SP','SSO','SSC','SC','SY','SH','SL','SN',\n",
    "           'MM','MAG','MAJ']\n",
    "\n",
    "# 이거는 한글자 빼고 / stopword 랑 stopPos 뺴는거. 이따가 쓸 것임. text는 꼭 str\n",
    "def token_mecab(text) :\n",
    "    text = mecab.pos(text)\n",
    "    text = [i for i in text if len(i[0])> 1]\n",
    "    text = [i for i in text if i[0] not in stop_word] \n",
    "    text = [i[0] for i in text if i[1] not in stopPos]\n",
    "    return text"
   ]
  },
  {
   "cell_type": "code",
   "execution_count": 301,
   "metadata": {},
   "outputs": [],
   "source": [
    "def make_tokens(df) :\n",
    "    df['tokens'] = ''\n",
    "    tokens_list = []\n",
    "    for i, row in df.iterrows() :\n",
    "        if i %10000 == 0 :\n",
    "            print(i, '/', len(df))\n",
    "        token = token_mecab(df['Comments'][i])\n",
    "        df['tokens'][i] = ' '.join(token)\n",
    "        \n",
    "    return df"
   ]
  },
  {
   "cell_type": "code",
   "execution_count": 302,
   "metadata": {},
   "outputs": [],
   "source": [
    "data = data[['Comments', 'label']]\n",
    "data2 = data2[['Comments', 'label']]"
   ]
  },
  {
   "cell_type": "code",
   "execution_count": 303,
   "metadata": {},
   "outputs": [],
   "source": [
    "data =  data.fillna(2)\n",
    "data2 =  data2.fillna(2)"
   ]
  },
  {
   "cell_type": "code",
   "execution_count": 304,
   "metadata": {},
   "outputs": [
    {
     "data": {
      "text/plain": [
       "Comments    0\n",
       "label       0\n",
       "dtype: int64"
      ]
     },
     "execution_count": 304,
     "metadata": {},
     "output_type": "execute_result"
    }
   ],
   "source": [
    "data2.isnull().sum()"
   ]
  },
  {
   "cell_type": "code",
   "execution_count": 305,
   "metadata": {},
   "outputs": [],
   "source": [
    "# 트레인!\n",
    "X_train = list(data['Comments'])\n",
    "Y_train = list(data['label'])\n",
    "\n",
    "# 이거 아님 주의 !!\n",
    "# X_train = list(df['document'])\n",
    "# Y_train = list(df['label'])"
   ]
  },
  {
   "cell_type": "code",
   "execution_count": 306,
   "metadata": {},
   "outputs": [
    {
     "data": {
      "text/html": [
       "<div>\n",
       "<style scoped>\n",
       "    .dataframe tbody tr th:only-of-type {\n",
       "        vertical-align: middle;\n",
       "    }\n",
       "\n",
       "    .dataframe tbody tr th {\n",
       "        vertical-align: top;\n",
       "    }\n",
       "\n",
       "    .dataframe thead th {\n",
       "        text-align: right;\n",
       "    }\n",
       "</style>\n",
       "<table border=\"1\" class=\"dataframe\">\n",
       "  <thead>\n",
       "    <tr style=\"text-align: right;\">\n",
       "      <th></th>\n",
       "      <th>Unnamed: 0</th>\n",
       "      <th>Unnamed: 0.1</th>\n",
       "      <th>Comments</th>\n",
       "      <th>tokens</th>\n",
       "      <th>label</th>\n",
       "    </tr>\n",
       "  </thead>\n",
       "  <tbody>\n",
       "    <tr>\n",
       "      <th>0</th>\n",
       "      <td>640</td>\n",
       "      <td>15</td>\n",
       "      <td>라면의품격을 한차원 올렸네요 잘먹고갑니다</td>\n",
       "      <td>['라면', '품격', '을', '차원', '올리다', '먹다', '가다']</td>\n",
       "      <td>1</td>\n",
       "    </tr>\n",
       "    <tr>\n",
       "      <th>1</th>\n",
       "      <td>643</td>\n",
       "      <td>18</td>\n",
       "      <td>미역초비빔면 괜찮아보이네요 ㅎㅎ 원래 오이를 채썰어서 비빔면이랑 같이 비벼서 많이 ...</td>\n",
       "      <td>['미역', '초', '비빔면', '괜찮다', '보이다', 'ㅎㅎ', '원래', '...</td>\n",
       "      <td>1</td>\n",
       "    </tr>\n",
       "    <tr>\n",
       "      <th>2</th>\n",
       "      <td>644</td>\n",
       "      <td>19</td>\n",
       "      <td>오이오이오이 오늘도 단순하지만 영양가는 꼭 들어가는 한끼이네요 ㅎㅎㅎㅎㅎ 저 까만것...</td>\n",
       "      <td>['오이오이오이', '오늘', '단순하다', '영양가', '꼭', '들어가다', '...</td>\n",
       "      <td>1</td>\n",
       "    </tr>\n",
       "    <tr>\n",
       "      <th>3</th>\n",
       "      <td>645</td>\n",
       "      <td>20</td>\n",
       "      <td>미역초 비빔면 정말 맛있게 드시네요  저도 한입 먹고싶어요  풀시청하고 갑니다</td>\n",
       "      <td>['미역', '초', '비빔면', '정말', '맛있다', '들다', '저', '입'...</td>\n",
       "      <td>1</td>\n",
       "    </tr>\n",
       "    <tr>\n",
       "      <th>4</th>\n",
       "      <td>647</td>\n",
       "      <td>22</td>\n",
       "      <td>노다이어트ㅋㅋㅋ 근데 진짜로 건강음식 같네요  먹고싶</td>\n",
       "      <td>['노', '다이어트', 'ㅋㅋㅋ', '근데', '진짜', '로', '건강', '음...</td>\n",
       "      <td>1</td>\n",
       "    </tr>\n",
       "    <tr>\n",
       "      <th>...</th>\n",
       "      <td>...</td>\n",
       "      <td>...</td>\n",
       "      <td>...</td>\n",
       "      <td>...</td>\n",
       "      <td>...</td>\n",
       "    </tr>\n",
       "    <tr>\n",
       "      <th>2993</th>\n",
       "      <td>2993</td>\n",
       "      <td></td>\n",
       "      <td>젓가락 질 하는 것도 욕하는건가     그래서 저가 쓰시는 그면 진짜 제이제이님 인...</td>\n",
       "      <td></td>\n",
       "      <td>2</td>\n",
       "    </tr>\n",
       "    <tr>\n",
       "      <th>2994</th>\n",
       "      <td>2994</td>\n",
       "      <td></td>\n",
       "      <td>탄탄멘은 국물빼고 비벼먹는거 아닌가유</td>\n",
       "      <td></td>\n",
       "      <td>2</td>\n",
       "    </tr>\n",
       "    <tr>\n",
       "      <th>2995</th>\n",
       "      <td>2995</td>\n",
       "      <td></td>\n",
       "      <td>일본거는 시국이라서 안가져오신건가</td>\n",
       "      <td></td>\n",
       "      <td>2</td>\n",
       "    </tr>\n",
       "    <tr>\n",
       "      <th>2996</th>\n",
       "      <td>2996</td>\n",
       "      <td></td>\n",
       "      <td>인도네시아 미고랭 현지호텔이나 식당가서 먹으면 진짜 존맛탱이에요    반숙계란이 국...</td>\n",
       "      <td></td>\n",
       "      <td>2</td>\n",
       "    </tr>\n",
       "    <tr>\n",
       "      <th>2997</th>\n",
       "      <td>2997</td>\n",
       "      <td></td>\n",
       "      <td>음식을 안남긴다니   저거 다드세요  완전 대식가시네 전문 먹방  들 못지않으신듯</td>\n",
       "      <td></td>\n",
       "      <td>2</td>\n",
       "    </tr>\n",
       "  </tbody>\n",
       "</table>\n",
       "<p>3531 rows × 5 columns</p>\n",
       "</div>"
      ],
      "text/plain": [
       "      Unnamed: 0 Unnamed: 0.1  \\\n",
       "0            640           15   \n",
       "1            643           18   \n",
       "2            644           19   \n",
       "3            645           20   \n",
       "4            647           22   \n",
       "...          ...          ...   \n",
       "2993        2993                \n",
       "2994        2994                \n",
       "2995        2995                \n",
       "2996        2996                \n",
       "2997        2997                \n",
       "\n",
       "                                               Comments  \\\n",
       "0                                라면의품격을 한차원 올렸네요 잘먹고갑니다   \n",
       "1     미역초비빔면 괜찮아보이네요 ㅎㅎ 원래 오이를 채썰어서 비빔면이랑 같이 비벼서 많이 ...   \n",
       "2     오이오이오이 오늘도 단순하지만 영양가는 꼭 들어가는 한끼이네요 ㅎㅎㅎㅎㅎ 저 까만것...   \n",
       "3           미역초 비빔면 정말 맛있게 드시네요  저도 한입 먹고싶어요  풀시청하고 갑니다   \n",
       "4                         노다이어트ㅋㅋㅋ 근데 진짜로 건강음식 같네요  먹고싶   \n",
       "...                                                 ...   \n",
       "2993  젓가락 질 하는 것도 욕하는건가     그래서 저가 쓰시는 그면 진짜 제이제이님 인...   \n",
       "2994                               탄탄멘은 국물빼고 비벼먹는거 아닌가유   \n",
       "2995                                 일본거는 시국이라서 안가져오신건가   \n",
       "2996  인도네시아 미고랭 현지호텔이나 식당가서 먹으면 진짜 존맛탱이에요    반숙계란이 국...   \n",
       "2997      음식을 안남긴다니   저거 다드세요  완전 대식가시네 전문 먹방  들 못지않으신듯   \n",
       "\n",
       "                                                 tokens label  \n",
       "0            ['라면', '품격', '을', '차원', '올리다', '먹다', '가다']     1  \n",
       "1     ['미역', '초', '비빔면', '괜찮다', '보이다', 'ㅎㅎ', '원래', '...     1  \n",
       "2     ['오이오이오이', '오늘', '단순하다', '영양가', '꼭', '들어가다', '...     1  \n",
       "3     ['미역', '초', '비빔면', '정말', '맛있다', '들다', '저', '입'...     1  \n",
       "4     ['노', '다이어트', 'ㅋㅋㅋ', '근데', '진짜', '로', '건강', '음...     1  \n",
       "...                                                 ...   ...  \n",
       "2993                                                        2  \n",
       "2994                                                        2  \n",
       "2995                                                        2  \n",
       "2996                                                        2  \n",
       "2997                                                        2  \n",
       "\n",
       "[3531 rows x 5 columns]"
      ]
     },
     "execution_count": 306,
     "metadata": {},
     "output_type": "execute_result"
    }
   ],
   "source": [
    "test_df"
   ]
  },
  {
   "cell_type": "code",
   "execution_count": 307,
   "metadata": {},
   "outputs": [],
   "source": [
    "from sklearn.feature_extraction.text import CountVectorizer\n",
    "from sklearn.feature_extraction.text import TfidfTransformer\n",
    "from sklearn.naive_bayes import MultinomialNB\n",
    "# CountVectorizer 선언\n",
    "count_vect = CountVectorizer()\n",
    "# fit and transform\n",
    "X_train_counts = count_vect.fit_transform(X_train)\n",
    "# MultinomialNB 선언 and fit\n",
    "clf = MultinomialNB().fit(X_train_counts, Y_train)"
   ]
  },
  {
   "cell_type": "code",
   "execution_count": 308,
   "metadata": {},
   "outputs": [
    {
     "data": {
      "text/html": [
       "<div>\n",
       "<style scoped>\n",
       "    .dataframe tbody tr th:only-of-type {\n",
       "        vertical-align: middle;\n",
       "    }\n",
       "\n",
       "    .dataframe tbody tr th {\n",
       "        vertical-align: top;\n",
       "    }\n",
       "\n",
       "    .dataframe thead th {\n",
       "        text-align: right;\n",
       "    }\n",
       "</style>\n",
       "<table border=\"1\" class=\"dataframe\">\n",
       "  <thead>\n",
       "    <tr style=\"text-align: right;\">\n",
       "      <th></th>\n",
       "      <th>Comments</th>\n",
       "      <th>label</th>\n",
       "    </tr>\n",
       "  </thead>\n",
       "  <tbody>\n",
       "    <tr>\n",
       "      <th>0</th>\n",
       "      <td>라면의품격을 한차원 올렸네요 잘먹고갑니다</td>\n",
       "      <td>1.0</td>\n",
       "    </tr>\n",
       "    <tr>\n",
       "      <th>1</th>\n",
       "      <td>미역초비빔면 괜찮아보이네요 ㅎㅎ 원래 오이를 채썰어서 비빔면이랑 같이 비벼서 많이 ...</td>\n",
       "      <td>1.0</td>\n",
       "    </tr>\n",
       "    <tr>\n",
       "      <th>2</th>\n",
       "      <td>오이오이오이 오늘도 단순하지만 영양가는 꼭 들어가는 한끼이네요 ㅎㅎㅎㅎㅎ 저 까만것...</td>\n",
       "      <td>1.0</td>\n",
       "    </tr>\n",
       "    <tr>\n",
       "      <th>3</th>\n",
       "      <td>미역초 비빔면 정말 맛있게 드시네요  저도 한입 먹고싶어요  풀시청하고 갑니다</td>\n",
       "      <td>1.0</td>\n",
       "    </tr>\n",
       "    <tr>\n",
       "      <th>4</th>\n",
       "      <td>노다이어트ㅋㅋㅋ 근데 진짜로 건강음식 같네요  먹고싶</td>\n",
       "      <td>1.0</td>\n",
       "    </tr>\n",
       "    <tr>\n",
       "      <th>...</th>\n",
       "      <td>...</td>\n",
       "      <td>...</td>\n",
       "    </tr>\n",
       "    <tr>\n",
       "      <th>2993</th>\n",
       "      <td>젓가락 질 하는 것도 욕하는건가     그래서 저가 쓰시는 그면 진짜 제이제이님 인...</td>\n",
       "      <td>2.0</td>\n",
       "    </tr>\n",
       "    <tr>\n",
       "      <th>2994</th>\n",
       "      <td>탄탄멘은 국물빼고 비벼먹는거 아닌가유</td>\n",
       "      <td>2.0</td>\n",
       "    </tr>\n",
       "    <tr>\n",
       "      <th>2995</th>\n",
       "      <td>일본거는 시국이라서 안가져오신건가</td>\n",
       "      <td>2.0</td>\n",
       "    </tr>\n",
       "    <tr>\n",
       "      <th>2996</th>\n",
       "      <td>인도네시아 미고랭 현지호텔이나 식당가서 먹으면 진짜 존맛탱이에요    반숙계란이 국...</td>\n",
       "      <td>2.0</td>\n",
       "    </tr>\n",
       "    <tr>\n",
       "      <th>2997</th>\n",
       "      <td>음식을 안남긴다니   저거 다드세요  완전 대식가시네 전문 먹방  들 못지않으신듯</td>\n",
       "      <td>2.0</td>\n",
       "    </tr>\n",
       "  </tbody>\n",
       "</table>\n",
       "<p>3531 rows × 2 columns</p>\n",
       "</div>"
      ],
      "text/plain": [
       "                                               Comments  label\n",
       "0                                라면의품격을 한차원 올렸네요 잘먹고갑니다    1.0\n",
       "1     미역초비빔면 괜찮아보이네요 ㅎㅎ 원래 오이를 채썰어서 비빔면이랑 같이 비벼서 많이 ...    1.0\n",
       "2     오이오이오이 오늘도 단순하지만 영양가는 꼭 들어가는 한끼이네요 ㅎㅎㅎㅎㅎ 저 까만것...    1.0\n",
       "3           미역초 비빔면 정말 맛있게 드시네요  저도 한입 먹고싶어요  풀시청하고 갑니다    1.0\n",
       "4                         노다이어트ㅋㅋㅋ 근데 진짜로 건강음식 같네요  먹고싶    1.0\n",
       "...                                                 ...    ...\n",
       "2993  젓가락 질 하는 것도 욕하는건가     그래서 저가 쓰시는 그면 진짜 제이제이님 인...    2.0\n",
       "2994                               탄탄멘은 국물빼고 비벼먹는거 아닌가유    2.0\n",
       "2995                                 일본거는 시국이라서 안가져오신건가    2.0\n",
       "2996  인도네시아 미고랭 현지호텔이나 식당가서 먹으면 진짜 존맛탱이에요    반숙계란이 국...    2.0\n",
       "2997      음식을 안남긴다니   저거 다드세요  완전 대식가시네 전문 먹방  들 못지않으신듯    2.0\n",
       "\n",
       "[3531 rows x 2 columns]"
      ]
     },
     "execution_count": 308,
     "metadata": {},
     "output_type": "execute_result"
    }
   ],
   "source": [
    "data"
   ]
  },
  {
   "cell_type": "code",
   "execution_count": 309,
   "metadata": {},
   "outputs": [
    {
     "data": {
      "text/html": [
       "<div>\n",
       "<style scoped>\n",
       "    .dataframe tbody tr th:only-of-type {\n",
       "        vertical-align: middle;\n",
       "    }\n",
       "\n",
       "    .dataframe tbody tr th {\n",
       "        vertical-align: top;\n",
       "    }\n",
       "\n",
       "    .dataframe thead th {\n",
       "        text-align: right;\n",
       "    }\n",
       "</style>\n",
       "<table border=\"1\" class=\"dataframe\">\n",
       "  <thead>\n",
       "    <tr style=\"text-align: right;\">\n",
       "      <th></th>\n",
       "      <th>Comments</th>\n",
       "      <th>label</th>\n",
       "    </tr>\n",
       "  </thead>\n",
       "  <tbody>\n",
       "    <tr>\n",
       "      <th>0</th>\n",
       "      <td>라면의품격을 한차원 올렸네요 잘먹고갑니다</td>\n",
       "      <td>1.0</td>\n",
       "    </tr>\n",
       "    <tr>\n",
       "      <th>1</th>\n",
       "      <td>미역초비빔면 괜찮아보이네요 ㅎㅎ 원래 오이를 채썰어서 비빔면이랑 같이 비벼서 많이 ...</td>\n",
       "      <td>1.0</td>\n",
       "    </tr>\n",
       "    <tr>\n",
       "      <th>2</th>\n",
       "      <td>오이오이오이 오늘도 단순하지만 영양가는 꼭 들어가는 한끼이네요 ㅎㅎㅎㅎㅎ 저 까만것...</td>\n",
       "      <td>1.0</td>\n",
       "    </tr>\n",
       "    <tr>\n",
       "      <th>3</th>\n",
       "      <td>미역초 비빔면 정말 맛있게 드시네요  저도 한입 먹고싶어요  풀시청하고 갑니다</td>\n",
       "      <td>1.0</td>\n",
       "    </tr>\n",
       "    <tr>\n",
       "      <th>4</th>\n",
       "      <td>노다이어트ㅋㅋㅋ 근데 진짜로 건강음식 같네요  먹고싶</td>\n",
       "      <td>1.0</td>\n",
       "    </tr>\n",
       "    <tr>\n",
       "      <th>...</th>\n",
       "      <td>...</td>\n",
       "      <td>...</td>\n",
       "    </tr>\n",
       "    <tr>\n",
       "      <th>528</th>\n",
       "      <td>미역이 많이 들어 있군요  저도 신제품 나오면 바로 사서 먹어 보는데 이 제품은 아...</td>\n",
       "      <td>1.0</td>\n",
       "    </tr>\n",
       "    <tr>\n",
       "      <th>529</th>\n",
       "      <td>꼭 한국에 가서 사먹을거야</td>\n",
       "      <td>1.0</td>\n",
       "    </tr>\n",
       "    <tr>\n",
       "      <th>530</th>\n",
       "      <td>맛있는 면</td>\n",
       "      <td>1.0</td>\n",
       "    </tr>\n",
       "    <tr>\n",
       "      <th>531</th>\n",
       "      <td>초장비빔면 너무  맛있어 보여요   차순영님 방에서  찾아와 친구맺고 갑니다 승승장...</td>\n",
       "      <td>1.0</td>\n",
       "    </tr>\n",
       "    <tr>\n",
       "      <th>532</th>\n",
       "      <td>아 겁나맛있겄네</td>\n",
       "      <td>1.0</td>\n",
       "    </tr>\n",
       "  </tbody>\n",
       "</table>\n",
       "<p>533 rows × 2 columns</p>\n",
       "</div>"
      ],
      "text/plain": [
       "                                              Comments  label\n",
       "0                               라면의품격을 한차원 올렸네요 잘먹고갑니다    1.0\n",
       "1    미역초비빔면 괜찮아보이네요 ㅎㅎ 원래 오이를 채썰어서 비빔면이랑 같이 비벼서 많이 ...    1.0\n",
       "2    오이오이오이 오늘도 단순하지만 영양가는 꼭 들어가는 한끼이네요 ㅎㅎㅎㅎㅎ 저 까만것...    1.0\n",
       "3          미역초 비빔면 정말 맛있게 드시네요  저도 한입 먹고싶어요  풀시청하고 갑니다    1.0\n",
       "4                        노다이어트ㅋㅋㅋ 근데 진짜로 건강음식 같네요  먹고싶    1.0\n",
       "..                                                 ...    ...\n",
       "528  미역이 많이 들어 있군요  저도 신제품 나오면 바로 사서 먹어 보는데 이 제품은 아...    1.0\n",
       "529                                     꼭 한국에 가서 사먹을거야    1.0\n",
       "530                                              맛있는 면    1.0\n",
       "531  초장비빔면 너무  맛있어 보여요   차순영님 방에서  찾아와 친구맺고 갑니다 승승장...    1.0\n",
       "532                                           아 겁나맛있겄네    1.0\n",
       "\n",
       "[533 rows x 2 columns]"
      ]
     },
     "execution_count": 309,
     "metadata": {},
     "output_type": "execute_result"
    }
   ],
   "source": [
    "data2"
   ]
  },
  {
   "cell_type": "code",
   "execution_count": 310,
   "metadata": {},
   "outputs": [
    {
     "data": {
      "text/html": [
       "<div>\n",
       "<style scoped>\n",
       "    .dataframe tbody tr th:only-of-type {\n",
       "        vertical-align: middle;\n",
       "    }\n",
       "\n",
       "    .dataframe tbody tr th {\n",
       "        vertical-align: top;\n",
       "    }\n",
       "\n",
       "    .dataframe thead th {\n",
       "        text-align: right;\n",
       "    }\n",
       "</style>\n",
       "<table border=\"1\" class=\"dataframe\">\n",
       "  <thead>\n",
       "    <tr style=\"text-align: right;\">\n",
       "      <th></th>\n",
       "      <th>Unnamed: 0</th>\n",
       "      <th>Comments</th>\n",
       "      <th>tokens</th>\n",
       "      <th>label</th>\n",
       "      <th>predic_label</th>\n",
       "    </tr>\n",
       "  </thead>\n",
       "  <tbody>\n",
       "    <tr>\n",
       "      <th>0</th>\n",
       "      <td>0</td>\n",
       "      <td>솔직히 먹어봤는데 트러플을 접해보지 못한 일반인인 나는 차이를 느끼지 못했다</td>\n",
       "      <td>솔직히 먹어 봤는데 트러플 해보지 일반인 차이 느끼지 했다</td>\n",
       "      <td>0</td>\n",
       "      <td>2.0</td>\n",
       "    </tr>\n",
       "    <tr>\n",
       "      <th>1</th>\n",
       "      <td>2</td>\n",
       "      <td>그냥 짜파게티에 달걀후라이가 젤 맛있음</td>\n",
       "      <td>그냥 짜파게티 달걀후라이 맛있음</td>\n",
       "      <td>0</td>\n",
       "      <td>2.0</td>\n",
       "    </tr>\n",
       "    <tr>\n",
       "      <th>2</th>\n",
       "      <td>5</td>\n",
       "      <td>저는 짜파게티 맛이 예전맛이 안나는거 같아서 항상 아쉬웠었는데 트러플 소스 들어가고...</td>\n",
       "      <td>짜파게티 안나는거 같아서 항상 아쉬웠었는데 트러플 소스 들어가고 나서 옜날 어릴 먹...</td>\n",
       "      <td>1</td>\n",
       "      <td>2.0</td>\n",
       "    </tr>\n",
       "    <tr>\n",
       "      <th>3</th>\n",
       "      <td>7</td>\n",
       "      <td>오   컵라면 뚜껑에 젓가락 끼워놓을 수 있는 곳이 있는줄 몰랐네요ㅋㅋㅋ 완전 꿀팁...</td>\n",
       "      <td>컵라면 뚜껑 젓가락 끼워놓을 있는 있는줄 몰랐네요 완전 꿀팁 트러플 오일 제조 송로...</td>\n",
       "      <td>0</td>\n",
       "      <td>2.0</td>\n",
       "    </tr>\n",
       "    <tr>\n",
       "      <th>4</th>\n",
       "      <td>10</td>\n",
       "      <td>솔직한 리뷰 잘 봤구요  그냥 트러플 오일 하나 사서 두어 방울 뿌려먹는게 낫겠지 ...</td>\n",
       "      <td>솔직한 리뷰 봤구요 그냥 트러플 오일 하나 사서 두어 방울 뿌려 먹는게 낫겠지 싶네...</td>\n",
       "      <td>0</td>\n",
       "      <td>2.0</td>\n",
       "    </tr>\n",
       "    <tr>\n",
       "      <th>5</th>\n",
       "      <td>11</td>\n",
       "      <td>먹어봤는데 그냥    호기심에 한번 먹어봄직한 맛이고 두번은 안 사먹을 맛임</td>\n",
       "      <td>먹어 봤는데 그냥 호기심 한번 먹어 직한 번은 사먹을 맛임</td>\n",
       "      <td>0</td>\n",
       "      <td>0.0</td>\n",
       "    </tr>\n",
       "    <tr>\n",
       "      <th>6</th>\n",
       "      <td>12</td>\n",
       "      <td>진짜 트러플이 무슨맛인지는 모르겠지만 난 개인적으로 맛있음</td>\n",
       "      <td>진짜 트러플 무슨 모르겠지만 개인 맛있음</td>\n",
       "      <td>1</td>\n",
       "      <td>2.0</td>\n",
       "    </tr>\n",
       "    <tr>\n",
       "      <th>7</th>\n",
       "      <td>14</td>\n",
       "      <td>짜파게티와 첫 키스</td>\n",
       "      <td>짜파게티 키스</td>\n",
       "      <td>1</td>\n",
       "      <td>2.0</td>\n",
       "    </tr>\n",
       "    <tr>\n",
       "      <th>8</th>\n",
       "      <td>15</td>\n",
       "      <td>진짜 표정에서 아쉬움이 엄청 묻어나오시네요ㅋㅋ</td>\n",
       "      <td>진짜 표정 아쉬움 묻어 나오시네요</td>\n",
       "      <td>0</td>\n",
       "      <td>2.0</td>\n",
       "    </tr>\n",
       "    <tr>\n",
       "      <th>9</th>\n",
       "      <td>17</td>\n",
       "      <td>오일도 저렴이니 트러플향도 그닥인데   그나마 있던향도  짜장에 묻혀 일반이랑  큰...</td>\n",
       "      <td>오일도 저렴 트러플 그닥 있던 짜장 묻혀 일반 차이 없드라구</td>\n",
       "      <td>0</td>\n",
       "      <td>2.0</td>\n",
       "    </tr>\n",
       "  </tbody>\n",
       "</table>\n",
       "</div>"
      ],
      "text/plain": [
       "   Unnamed: 0                                           Comments  \\\n",
       "0           0         솔직히 먹어봤는데 트러플을 접해보지 못한 일반인인 나는 차이를 느끼지 못했다   \n",
       "1           2                              그냥 짜파게티에 달걀후라이가 젤 맛있음   \n",
       "2           5  저는 짜파게티 맛이 예전맛이 안나는거 같아서 항상 아쉬웠었는데 트러플 소스 들어가고...   \n",
       "3           7  오   컵라면 뚜껑에 젓가락 끼워놓을 수 있는 곳이 있는줄 몰랐네요ㅋㅋㅋ 완전 꿀팁...   \n",
       "4          10  솔직한 리뷰 잘 봤구요  그냥 트러플 오일 하나 사서 두어 방울 뿌려먹는게 낫겠지 ...   \n",
       "5          11         먹어봤는데 그냥    호기심에 한번 먹어봄직한 맛이고 두번은 안 사먹을 맛임   \n",
       "6          12                   진짜 트러플이 무슨맛인지는 모르겠지만 난 개인적으로 맛있음   \n",
       "7          14                                         짜파게티와 첫 키스   \n",
       "8          15                          진짜 표정에서 아쉬움이 엄청 묻어나오시네요ㅋㅋ   \n",
       "9          17  오일도 저렴이니 트러플향도 그닥인데   그나마 있던향도  짜장에 묻혀 일반이랑  큰...   \n",
       "\n",
       "                                              tokens  label  predic_label  \n",
       "0                   솔직히 먹어 봤는데 트러플 해보지 일반인 차이 느끼지 했다      0           2.0  \n",
       "1                                  그냥 짜파게티 달걀후라이 맛있음      0           2.0  \n",
       "2  짜파게티 안나는거 같아서 항상 아쉬웠었는데 트러플 소스 들어가고 나서 옜날 어릴 먹...      1           2.0  \n",
       "3  컵라면 뚜껑 젓가락 끼워놓을 있는 있는줄 몰랐네요 완전 꿀팁 트러플 오일 제조 송로...      0           2.0  \n",
       "4  솔직한 리뷰 봤구요 그냥 트러플 오일 하나 사서 두어 방울 뿌려 먹는게 낫겠지 싶네...      0           2.0  \n",
       "5                   먹어 봤는데 그냥 호기심 한번 먹어 직한 번은 사먹을 맛임      0           0.0  \n",
       "6                             진짜 트러플 무슨 모르겠지만 개인 맛있음      1           2.0  \n",
       "7                                            짜파게티 키스      1           2.0  \n",
       "8                                 진짜 표정 아쉬움 묻어 나오시네요      0           2.0  \n",
       "9                  오일도 저렴 트러플 그닥 있던 짜장 묻혀 일반 차이 없드라구      0           2.0  "
      ]
     },
     "execution_count": 310,
     "metadata": {},
     "output_type": "execute_result"
    }
   ],
   "source": [
    "predic_label = []\n",
    "for i, row in data1.iterrows():\n",
    "    predic = clf.predict(count_vect.transform([data1['Comments'][i]]))[0]\n",
    "    predic_label.append(predic)\n",
    "data1['predic_label'] = predic_label\n",
    "data1.head(10)"
   ]
  },
  {
   "cell_type": "code",
   "execution_count": 313,
   "metadata": {},
   "outputs": [
    {
     "name": "stderr",
     "output_type": "stream",
     "text": [
      "C:\\anaconda3\\envs\\sjpark\\lib\\site-packages\\ipykernel_launcher.py:2: SettingWithCopyWarning: \n",
      "A value is trying to be set on a copy of a slice from a DataFrame\n",
      "\n",
      "See the caveats in the documentation: https://pandas.pydata.org/pandas-docs/stable/user_guide/indexing.html#returning-a-view-versus-a-copy\n",
      "  \n"
     ]
    }
   ],
   "source": [
    "for i in range(len(data1)) :\n",
    "    data1['predic_label'][i] = int(data1['predic_label'][i])"
   ]
  },
  {
   "cell_type": "code",
   "execution_count": 314,
   "metadata": {},
   "outputs": [
    {
     "name": "stdout",
     "output_type": "stream",
     "text": [
      "49\n",
      "52\n",
      "54\n",
      "69\n",
      "72\n",
      "76\n",
      "86\n",
      "109\n",
      "121\n",
      "127\n",
      "136\n",
      "149\n",
      "307\n",
      "310\n",
      "314\n",
      "333\n",
      "76 6 15 1\n"
     ]
    }
   ],
   "source": [
    "\n",
    "# 계산하는 방법임\n",
    "# predic 과 실제 label을 비교하여 정의대로 값을 뽑아낸다.\n",
    "TP = FN = FP = TN = other = 0\n",
    "for i in range(len(data1)):\n",
    "    if data1['label'][i] == 1 and data1['predic_label'][i] == 1:\n",
    "        TP +=1\n",
    "    elif data1['label'][i] == 0 and data1['predic_label'][i] == 0:\n",
    "        TN +=1\n",
    "    elif data1['label'][i] == 0 and data1['predic_label'][i] == 1:\n",
    "        FN +=1\n",
    "        print(i)\n",
    "    elif data1['label'][i] == 1 and data1['predic_label'][i] == 0:\n",
    "        FP +=1\n",
    "        print(i)\n",
    "    else:\n",
    "        other +=1\n",
    "        \n",
    "print(TP,TN,FN,FP)"
   ]
  },
  {
   "cell_type": "code",
   "execution_count": 315,
   "metadata": {},
   "outputs": [
    {
     "name": "stdout",
     "output_type": "stream",
     "text": [
      "ACC:  0.8367346938775511\n"
     ]
    }
   ],
   "source": [
    "ACC = (TP+TN)/(TP+TN+FP+FN)\n",
    "print('ACC: ',ACC)"
   ]
  },
  {
   "cell_type": "code",
   "execution_count": null,
   "metadata": {},
   "outputs": [],
   "source": []
  },
  {
   "cell_type": "code",
   "execution_count": 329,
   "metadata": {},
   "outputs": [
    {
     "data": {
      "text/plain": [
       "Unnamed: 0                           84\n",
       "Comments        크러플소스를 따로 사서 뿌려먹는게 갑입니가\n",
       "tokens              크러 소스 사서 뿌려 먹는게 입니가\n",
       "label                                 0\n",
       "predic_label                          1\n",
       "Name: 49, dtype: object"
      ]
     },
     "execution_count": 329,
     "metadata": {},
     "output_type": "execute_result"
    }
   ],
   "source": [
    "data1.loc[49]"
   ]
  },
  {
   "cell_type": "code",
   "execution_count": 330,
   "metadata": {},
   "outputs": [
    {
     "data": {
      "text/plain": [
       "Unnamed: 0                                                     92\n",
       "Comments        만약 이게 트러플향이라면 난 다시는 트러플 안먹을래 했는데 그게 진짜 향이었다니  ...\n",
       "tokens          만약 트러플 라면 다시는 트러플 먹을래 했는데 그게 진짜 이었다니 시큼시큼하면서 찌...\n",
       "label                                                           0\n",
       "predic_label                                                    1\n",
       "Name: 52, dtype: object"
      ]
     },
     "execution_count": 330,
     "metadata": {},
     "output_type": "execute_result"
    }
   ],
   "source": [
    "data1.loc[52]"
   ]
  },
  {
   "cell_type": "code",
   "execution_count": 331,
   "metadata": {},
   "outputs": [
    {
     "data": {
      "text/plain": [
       "Unnamed: 0                                          98\n",
       "Comments        기존 짜파게티가 훨씬 맛있습니다 다신 안사먹을라고요 드럽게 맛 없네요\n",
       "tokens                 기존 짜파게티 맛있습니다 다신 사먹을라고요 드럽게 없네요\n",
       "label                                                0\n",
       "predic_label                                         1\n",
       "Name: 54, dtype: object"
      ]
     },
     "execution_count": 331,
     "metadata": {},
     "output_type": "execute_result"
    }
   ],
   "source": [
    "data1.loc[54]"
   ]
  },
  {
   "cell_type": "code",
   "execution_count": 332,
   "metadata": {},
   "outputs": [
    {
     "data": {
      "text/plain": [
       "Unnamed: 0                          133\n",
       "Comments        농심 제품은 불매라 먹어보진 않을듯 합니다\n",
       "tokens           농심 제품 불매 먹어 보진 않을듯 합니다\n",
       "label                                 0\n",
       "predic_label                          1\n",
       "Name: 69, dtype: object"
      ]
     },
     "execution_count": 332,
     "metadata": {},
     "output_type": "execute_result"
    }
   ],
   "source": [
    "data1.loc[69]"
   ]
  },
  {
   "cell_type": "code",
   "execution_count": 333,
   "metadata": {},
   "outputs": [
    {
     "data": {
      "text/plain": [
       "Unnamed: 0                       137\n",
       "Comments        농심 전범기업이랑 손잡았다고 나오던데\n",
       "tokens           농심 전범 기업 손잡았다고 나오던데\n",
       "label                              0\n",
       "predic_label                       1\n",
       "Name: 72, dtype: object"
      ]
     },
     "execution_count": 333,
     "metadata": {},
     "output_type": "execute_result"
    }
   ],
   "source": [
    "data1.loc[72]"
   ]
  },
  {
   "cell_type": "code",
   "execution_count": 334,
   "metadata": {},
   "outputs": [
    {
     "data": {
      "text/plain": [
       "Unnamed: 0                                                    163\n",
       "Comments        고물님 후기 기다렸어요  아직 주변 마트에서 못봤는데    그냥 트러플 오일 사서 ...\n",
       "tokens                    고물 후기 기다렸어요 주변 마트 봤는데 그냥 트러플 오일 사서 먹을래요\n",
       "label                                                           0\n",
       "predic_label                                                    1\n",
       "Name: 86, dtype: object"
      ]
     },
     "execution_count": 334,
     "metadata": {},
     "output_type": "execute_result"
    }
   ],
   "source": [
    "data1.loc[86]"
   ]
  },
  {
   "cell_type": "code",
   "execution_count": 335,
   "metadata": {},
   "outputs": [
    {
     "data": {
      "text/plain": [
       "Unnamed: 0           207\n",
       "Comments        농심   왜그래\n",
       "tokens             농심 그래\n",
       "label                  0\n",
       "predic_label           1\n",
       "Name: 109, dtype: object"
      ]
     },
     "execution_count": 335,
     "metadata": {},
     "output_type": "execute_result"
    }
   ],
   "source": [
    "data1.loc[109]"
   ]
  },
  {
   "cell_type": "code",
   "execution_count": 336,
   "metadata": {},
   "outputs": [
    {
     "data": {
      "text/plain": [
       "Unnamed: 0                               222\n",
       "Comments        오히려 짜파게티에다 트러플오일 넣는게 더 괜찮을지도\n",
       "tokens             오히려 짜파게티 트러플 오일 넣는게 괜찮을지도\n",
       "label                                      0\n",
       "predic_label                               1\n",
       "Name: 121, dtype: object"
      ]
     },
     "execution_count": 336,
     "metadata": {},
     "output_type": "execute_result"
    }
   ],
   "source": [
    "data1.loc[121]"
   ]
  },
  {
   "cell_type": "code",
   "execution_count": 337,
   "metadata": {},
   "outputs": [
    {
     "data": {
      "text/plain": [
       "Unnamed: 0                                                    234\n",
       "Comments        농심 설문조사 결과로 나온 제품인것 같더라구요 저도 투표 했구요 헣  저같이 트러플...\n",
       "tokens          농심 설문조사 결과 나온 제품 같더라구요 투표 했구요 트러플 오일이 익숙하지 않은 ...\n",
       "label                                                           0\n",
       "predic_label                                                    1\n",
       "Name: 127, dtype: object"
      ]
     },
     "execution_count": 337,
     "metadata": {},
     "output_type": "execute_result"
    }
   ],
   "source": [
    "data1.loc[127]"
   ]
  }
 ],
 "metadata": {
  "kernelspec": {
   "display_name": "Python 3",
   "language": "python",
   "name": "python3"
  },
  "language_info": {
   "codemirror_mode": {
    "name": "ipython",
    "version": 3
   },
   "file_extension": ".py",
   "mimetype": "text/x-python",
   "name": "python",
   "nbconvert_exporter": "python",
   "pygments_lexer": "ipython3",
   "version": "3.7.9"
  }
 },
 "nbformat": 4,
 "nbformat_minor": 4
}
